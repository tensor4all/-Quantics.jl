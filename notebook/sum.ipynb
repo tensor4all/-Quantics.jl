{
 "cells": [
  {
   "cell_type": "code",
   "execution_count": 2,
   "metadata": {},
   "outputs": [],
   "source": [
    "using Revise\n",
    "using Quantics\n",
    "using ITensors"
   ]
  },
  {
   "cell_type": "code",
   "execution_count": 4,
   "metadata": {},
   "outputs": [
    {
     "ename": "MethodError",
     "evalue": "MethodError: no method matching tags(::Nothing)\n\nClosest candidates are:\n  tags(!Matched::Index)\n   @ ITensors ~/.julia/packages/ITensors/nUzgj/src/index.jl:204\n",
     "output_type": "error",
     "traceback": [
      "MethodError: no method matching tags(::Nothing)\n",
      "\n",
      "Closest candidates are:\n",
      "  tags(!Matched::Index)\n",
      "   @ ITensors ~/.julia/packages/ITensors/nUzgj/src/index.jl:204\n",
      "\n",
      "\n",
      "Stacktrace:\n",
      "  [1] replacebond!(M::MPS, b::Int64, phi::ITensor; normalize::Bool, swapsites::Nothing, ortho::String, which_decomp::Nothing, mindim::Int64, maxdim::Int64, cutoff::Float64, eigen_perturbation::Nothing, svd_alg::Nothing, use_absolute_cutoff::Nothing, use_relative_cutoff::Nothing, min_blockdim::Nothing)\n",
      "    @ ITensors.ITensorMPS ~/.julia/packages/ITensors/nUzgj/src/lib/ITensorMPS/src/mps.jl:563\n",
      "  [2] replacebond!\n",
      "    @ ~/.julia/packages/ITensors/nUzgj/src/lib/ITensorMPS/src/mps.jl:534 [inlined]\n",
      "  [3] region_update!(nsite_val::Val{2}, reverse_step_val::Val{false}, reduce_operator::Quantics.ReducedSumProblem, state::MPS, b::Int64; updater::typeof(Quantics.add_operator_state_updater), updater_kwargs::@NamedTuple{}, current_time::Nothing, time_step::Nothing, outputlevel::Int64, normalize::Bool, direction::Base.Order.ReverseOrdering{Base.Order.ForwardOrdering}, noise::Int64, which_decomp::Nothing, svd_alg::Nothing, cutoff::Float64, maxdim::Int64, mindim::Int64, maxtruncerr::Float64)\n",
      "    @ ITensorTDVP ~/.julia/packages/ITensorTDVP/4kskX/src/sweep_update.jl:372\n",
      "  [4] region_update!(reduce_operator::Quantics.ReducedSumProblem, state::MPS, b::Int64; updater::Function, updater_kwargs::@NamedTuple{}, nsite::Int64, reverse_step::Bool, current_time::Nothing, outputlevel::Int64, time_step::Nothing, normalize::Bool, direction::Base.Order.ReverseOrdering{Base.Order.ForwardOrdering}, noise::Int64, which_decomp::Nothing, svd_alg::Nothing, cutoff::Float64, maxdim::Int64, mindim::Int64, maxtruncerr::Float64)\n",
      "    @ ITensorTDVP ~/.julia/packages/ITensorTDVP/4kskX/src/sweep_update.jl:196\n",
      "  [5] sub_sweep_update(direction::Base.Order.ReverseOrdering{Base.Order.ForwardOrdering}, reduce_operator::Quantics.ReducedSumProblem, state::MPS; updater::Function, updater_kwargs::@NamedTuple{}, which_decomp::Nothing, svd_alg::Nothing, sweep::Int64, current_time::Nothing, time_step::Nothing, nsite::Int64, reverse_step::Bool, normalize::Bool, observer!::ITensorTDVP.EmptyObserver, outputlevel::Int64, maxdim::Int64, mindim::Int64, cutoff::Float64, noise::Int64)\n",
      "    @ ITensorTDVP ~/.julia/packages/ITensorTDVP/4kskX/src/sweep_update.jl:117\n",
      "  [6] sweep_update(order::ITensorTDVP.TDVPOrder{2, Base.Order.ForwardOrdering()}, reduce_operator::Quantics.ReducedSumProblem, state::MPS; current_time::Nothing, time_step::Nothing, kwargs::@Kwargs{updater::typeof(Quantics.add_operator_state_updater), updater_kwargs::@NamedTuple{}, nsite::Int64, reverse_step::Bool, sweep::Int64, observer!::ITensorTDVP.EmptyObserver, normalize::Bool, outputlevel::Int64, maxdim::Int64, mindim::Int64, cutoff::Float64, noise::Int64})\n",
      "    @ ITensorTDVP ~/.julia/packages/ITensorTDVP/4kskX/src/sweep_update.jl:35\n",
      "  [7] macro expansion\n",
      "    @ ~/.julia/packages/ITensorTDVP/4kskX/src/alternating_update.jl:71 [inlined]\n",
      "  [8] macro expansion\n",
      "    @ ./timing.jl:395 [inlined]\n",
      "  [9] alternating_update(operator::Quantics.ReducedSumProblem, init::MPS; updater::Function, updater_kwargs::@NamedTuple{}, nsweeps::Int64, checkdone::Returns{Bool}, write_when_maxdim_exceeds::Nothing, nsite::Int64, reverse_step::Bool, time_start::Nothing, time_step::Nothing, order::Int64, observer!::ITensorTDVP.EmptyObserver, sweep_observer!::ITensorTDVP.EmptyObserver, outputlevel::Int64, normalize::Bool, maxdim::Int64, mindim::Int64, cutoff::Float64, noise::Int64)\n",
      "    @ ITensorTDVP ~/.julia/packages/ITensorTDVP/4kskX/src/alternating_update.jl:70\n",
      " [10] alternating_update\n",
      "    @ ~/.julia/packages/ITensorTDVP/4kskX/src/alternating_update.jl:25 [inlined]\n",
      " [11] #variational_add#35\n",
      "    @ ~/git/Quantics.jl/src/sum.jl:18 [inlined]\n",
      " [12] top-level scope\n",
      "    @ ~/git/Quantics.jl/notebook/sum.ipynb:4"
     ]
    }
   ],
   "source": [
    "sites = siteinds(\"S=1/2\", 10)\n",
    "Ψ = random_mps(sites)\n",
    "\n",
    "Quantics.variational_add(Ψ; cutoff=1e-10, maxdim=2, nsweeps=1)"
   ]
  },
  {
   "cell_type": "code",
   "execution_count": null,
   "metadata": {},
   "outputs": [],
   "source": []
  }
 ],
 "metadata": {
  "kernelspec": {
   "display_name": "Julia 1.10.4",
   "language": "julia",
   "name": "julia-1.10"
  },
  "language_info": {
   "file_extension": ".jl",
   "mimetype": "application/julia",
   "name": "julia",
   "version": "1.10.4"
  }
 },
 "nbformat": 4,
 "nbformat_minor": 2
}
